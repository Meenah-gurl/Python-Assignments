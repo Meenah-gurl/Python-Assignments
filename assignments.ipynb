{
 "cells": [
  {
   "cell_type": "markdown",
   "metadata": {},
   "source": [
    "# Minimum and Maximum \n",
    "Find the minimum and maximum number in the set"
   ]
  },
  {
   "cell_type": "code",
   "execution_count": 3,
   "metadata": {},
   "outputs": [
    {
     "name": "stdout",
     "output_type": "stream",
     "text": [
      "2\n",
      "20\n"
     ]
    }
   ],
   "source": [
    "my_set = {5, 10, 3, 15, 2, 20}\n",
    "\n",
    "print(\"Minimum value:\", min(my_set))\n",
    "print(\"Maximum value:\", max(my_set))"
   ]
  },
  {
   "cell_type": "markdown",
   "metadata": {},
   "source": [
    "# Difference between 2 sets:\n",
    "A Python program to find the difference between two sets:"
   ]
  },
  {
   "cell_type": "code",
   "execution_count": 1,
   "metadata": {},
   "outputs": [
    {
     "name": "stdout",
     "output_type": "stream",
     "text": [
      "Difference: {1, 3, 5}\n"
     ]
    }
   ],
   "source": [
    "set1 = {1, 2, 3, 4, 5}\n",
    "set2 = {2, 4, 6, 8}\n",
    "\n",
    "difference = set1.difference(set2)\n",
    "print(\"Difference:\", difference)"
   ]
  },
  {
   "cell_type": "markdown",
   "metadata": {},
   "source": [
    "# Common value between set"
   ]
  },
  {
   "cell_type": "code",
   "execution_count": 2,
   "metadata": {},
   "outputs": [
    {
     "name": "stdout",
     "output_type": "stream",
     "text": [
      "Elements in common: {2, 4}\n"
     ]
    }
   ],
   "source": [
    "# Find the intersection between two sets\n",
    "set1 = {1, 2, 3, 4, 5}\n",
    "set2 = {2, 4, 6, 8}\n",
    "\n",
    "# Use the intersection method for efficient set operation\n",
    "intersection = set1.intersection(set2)\n",
    "\n",
    "print(\"Elements in common:\", intersection)"
   ]
  },
  {
   "cell_type": "markdown",
   "metadata": {},
   "source": [
    "# SORT Tuple"
   ]
  },
  {
   "cell_type": "code",
   "execution_count": 3,
   "metadata": {},
   "outputs": [
    {
     "name": "stdout",
     "output_type": "stream",
     "text": [
      "Sorted data by float value: [('item1', '11.20'), ('item1', '12.50'), ('item1', '12.52')]\n"
     ]
    }
   ],
   "source": [
    "# Sort a tuple by its float element\n",
    "\n",
    "sample_data = [('item1','12.50'),('item1','11.20'),('item1','12.52')]\n",
    "\n",
    "# Sort the tuple using key function and lambda to convert string to float\n",
    "sorted_data = sorted(sample_data, key=lambda x: float(x[1]))\n",
    "\n",
    "print(\"Sorted data by float value:\", sorted_data)"
   ]
  },
  {
   "cell_type": "markdown",
   "metadata": {},
   "source": [
    "# Count Until Turple\n"
   ]
  },
  {
   "cell_type": "code",
   "execution_count": 4,
   "metadata": {},
   "outputs": [
    {
     "name": "stdout",
     "output_type": "stream",
     "text": [
      "Number of elements counted: 3\n"
     ]
    }
   ],
   "source": [
    "def count_elements_until_tuple(my_list):\n",
    "  \"\"\"\n",
    "  This function counts the elements in a list until a tuple is encountered.\n",
    "\n",
    "  Args:\n",
    "      my_list: A list of elements.\n",
    "\n",
    "  Returns:\n",
    "      The number of elements counted before encountering a tuple, \n",
    "      or 0 if the list is empty or contains no tuples.\n",
    "  \"\"\"\n",
    "  count = 0\n",
    "  for item in my_list:\n",
    "    if isinstance(item, tuple):\n",
    "      return count\n",
    "    count += 1\n",
    "  return 0  # If loop finishes without finding a tuple\n",
    "\n",
    "# Example usage\n",
    "my_list = [\"apple\", \"banana\", 3.14, (1, 2, 3), \"orange\"]\n",
    "count = count_elements_until_tuple(my_list)\n",
    "\n",
    "print(\"Number of elements counted:\", count)\n"
   ]
  },
  {
   "cell_type": "markdown",
   "metadata": {},
   "source": [
    "# 1. Create a List and find the Largest number"
   ]
  },
  {
   "cell_type": "code",
   "execution_count": 6,
   "metadata": {},
   "outputs": [
    {
     "name": "stdout",
     "output_type": "stream",
     "text": [
      "The largest number in the list is: 22\n"
     ]
    }
   ],
   "source": [
    "# Create a list of numbers\n",
    "numbers = [5, 10, 15, 22, 20]\n",
    "\n",
    "# Initialize a variable to store the largest number seen so far\n",
    "largest_number = numbers[0]  # Assuming the list is not empty\n",
    "\n",
    "# Iterate through the list and update largest_number if needed\n",
    "for number in numbers:\n",
    "  if number > largest_number:\n",
    "    largest_number = number\n",
    "\n",
    "print(\"The largest number in the list is:\", largest_number)\n"
   ]
  },
  {
   "cell_type": "markdown",
   "metadata": {},
   "source": [
    "# Find Prime Number"
   ]
  },
  {
   "cell_type": "code",
   "execution_count": null,
   "metadata": {},
   "outputs": [],
   "source": [
    "def is_prime(num):\n",
    "  \"\"\"\n",
    "  This function checks if a number is prime.\n",
    "\n",
    "  Args:\n",
    "      num: An integer number.\n",
    "\n",
    "  Returns:\n",
    "      True if the number is prime, False otherwise.\n",
    "  \"\"\"\n",
    "  if num <= 1:\n",
    "    return False\n",
    "  if num <= 3:\n",
    "    return True\n",
    "\n",
    "  # Check divisibility only by odd numbers from 3 to sqrt(num)\n",
    "  for i in range(3, int(num**0.5) + 1, 2):\n",
    "    if num % i == 0:\n",
    "      return False\n",
    "  return True\n",
    "\n",
    "# Get user input for the number to check\n",
    "num = int(input(\"Enter a number: \"))\n",
    "\n",
    "# Check if the number is prime and print the result\n",
    "if is_prime(num):\n",
    "  print(num, \"is a prime number.\")\n",
    "else:\n",
    "  print(num, \"is not a prime number.\")\n"
   ]
  },
  {
   "cell_type": "markdown",
   "metadata": {},
   "source": [
    "# Positive, Negative or Zero"
   ]
  },
  {
   "cell_type": "code",
   "execution_count": 7,
   "metadata": {},
   "outputs": [
    {
     "name": "stdout",
     "output_type": "stream",
     "text": [
      "The number is positive.\n"
     ]
    }
   ],
   "source": [
    "def check_number(number):\n",
    "  \"\"\"\n",
    "  This function checks if a number is positive, negative, or zero.\n",
    "\n",
    "  Args:\n",
    "      number: A numerical value.\n",
    "\n",
    "  Returns:\n",
    "      A string indicating if the number is positive, negative, or zero.\n",
    "  \"\"\"\n",
    "  if number > 0:\n",
    "    return \"The number is positive.\"\n",
    "  elif number < 0:\n",
    "    return \"The number is negative.\"\n",
    "  else:\n",
    "    return \"The number is zero.\"\n",
    "\n",
    "# Get user input for the number\n",
    "number = float(input(\"Enter a number: \"))  # Accepts both integers and floats\n",
    "\n",
    "# Check the number and print the result\n",
    "result = check_number(number)\n",
    "print(result)\n"
   ]
  },
  {
   "cell_type": "markdown",
   "metadata": {},
   "source": [
    "# Leap Year"
   ]
  },
  {
   "cell_type": "code",
   "execution_count": 8,
   "metadata": {},
   "outputs": [
    {
     "name": "stdout",
     "output_type": "stream",
     "text": [
      "2024 is a leap year.\n"
     ]
    }
   ],
   "source": [
    "def is_leap_year(year):\n",
    "  \"\"\"\n",
    "  This function checks if a year is a leap year.\n",
    "\n",
    "  Args:\n",
    "      year: An integer representing the year.\n",
    "\n",
    "  Returns:\n",
    "      True if the year is a leap year, False otherwise.\n",
    "  \"\"\"\n",
    "  # Divisible by 4\n",
    "  if year % 4 == 0:\n",
    "    # Not divisible by 100 (or divisible by 400)\n",
    "    return year % 100 != 0 or year % 400 == 0\n",
    "  else:\n",
    "    return False\n",
    "\n",
    "# Get user input for the year\n",
    "year = int(input(\"Enter a year: \"))\n",
    "\n",
    "# Check if the year is a leap year and print the result\n",
    "if is_leap_year(year):\n",
    "  print(year, \"is a leap year.\")\n",
    "else:\n",
    "  print(year, \"is not a leap year.\")\n"
   ]
  },
  {
   "cell_type": "markdown",
   "metadata": {},
   "source": [
    "# Check Alphabets"
   ]
  },
  {
   "cell_type": "code",
   "execution_count": 9,
   "metadata": {},
   "outputs": [
    {
     "name": "stdout",
     "output_type": "stream",
     "text": [
      "6 is a number.\n"
     ]
    }
   ],
   "source": [
    "def is_alphanumeric(char):\n",
    "  \"\"\"\n",
    "  This function checks if a character is alphanumeric (alphabet or number).\n",
    "\n",
    "  Args:\n",
    "      char: A single character.\n",
    "\n",
    "  Returns:\n",
    "      True if the character is alphanumeric, False otherwise.\n",
    "  \"\"\"\n",
    "  return char.isalpha() or char.isdigit()\n",
    "\n",
    "# Get user input\n",
    "user_input = input(\"Enter a character: \")\n",
    "\n",
    "# Check if the input is alphanumeric and print the result\n",
    "if is_alphanumeric(user_input):\n",
    "  if user_input.isalpha():\n",
    "    print(user_input, \"is an alphabet.\")\n",
    "  else:\n",
    "    print(user_input, \"is a number.\")\n",
    "else:\n",
    "  print(user_input, \"is not an alphabet or a number.\")\n"
   ]
  },
  {
   "cell_type": "markdown",
   "metadata": {},
   "source": [
    "# Add 2 Matrices"
   ]
  },
  {
   "cell_type": "code",
   "execution_count": 10,
   "metadata": {},
   "outputs": [
    {
     "name": "stdout",
     "output_type": "stream",
     "text": [
      "Sum of the matrices:\n",
      " [[8, 10, 12], [14, 16, 18]]\n"
     ]
    }
   ],
   "source": [
    "def add_matrices(matrix1, matrix2):\n",
    "  \"\"\"\n",
    "  This function adds two matrices element-wise.\n",
    "\n",
    "  Args:\n",
    "      matrix1: A 2D list representing the first matrix.\n",
    "      matrix2: A 2D list representing the second matrix.\n",
    "\n",
    "  Returns:\n",
    "      A new 2D list containing the sum of the corresponding elements in matrix1 and matrix2.\n",
    "\n",
    "  Raises:\n",
    "      ValueError: If the matrices have different dimensions.\n",
    "  \"\"\"\n",
    "  # Check if matrices have the same dimensions\n",
    "  if len(matrix1) != len(matrix2) or len(matrix1[0]) != len(matrix2[0]):\n",
    "    raise ValueError(\"Matrices must have the same dimensions for addition.\")\n",
    "\n",
    "  # Initialize a result matrix with zeros\n",
    "  result = [[0 for _ in range(len(matrix1[0]))] for _ in range(len(matrix1))]\n",
    "\n",
    "  # Add corresponding elements from each matrix\n",
    "  for i in range(len(matrix1)):\n",
    "    for j in range(len(matrix1[0])):\n",
    "      result[i][j] = matrix1[i][j] + matrix2[i][j]\n",
    "\n",
    "  return result\n",
    "\n",
    "# Example usage\n",
    "matrix1 = [[1, 2, 3], [4, 5, 6]]\n",
    "matrix2 = [[7, 8, 9], [10, 11, 12]]\n",
    "\n",
    "try:\n",
    "  # Add the matrices and store the result\n",
    "  sum_matrix = add_matrices(matrix1, matrix2)\n",
    "\n",
    "  # Print the resulting sum matrix\n",
    "  print(\"Sum of the matrices:\\n\", sum_matrix)\n",
    "except ValueError as e:\n",
    "  print(e)\n"
   ]
  },
  {
   "cell_type": "markdown",
   "metadata": {},
   "source": [
    "----\n",
    "# Create and Import CSV (NUMPY)"
   ]
  },
  {
   "cell_type": "markdown",
   "metadata": {},
   "source": [
    "Here's a Python program demonstrating how to create and import a CSV file using both NumPy and Pandas libraries:\n",
    "\n",
    "**Using NumPy:**\n",
    "\n",
    "```python\n",
    "import numpy as np\n",
    "\n",
    "# Sample data\n",
    "data = np.array([[1, 2.5, \"Sample string\"], [2, 3.1, \"Another string\"]])\n",
    "\n",
    "# Save the data to a CSV file with appropriate formatting\n",
    "np.savetxt(\"data.csv\", data, delimiter=\",\", fmt=\"%s\")  # \"%s\" for string formatting\n",
    "\n",
    "print(\"CSV file created using NumPy!\")\n",
    "```\n",
    "\n",
    "**Explanation:**\n",
    "\n",
    "1. **Import NumPy:** We import the NumPy library using `import numpy as np`.\n",
    "2. **Sample data:** We create a NumPy array `data` containing sample data with different data types (integer, float, and string).\n",
    "3. **Save as CSV:** We use the `np.savetxt` function to save the data to a CSV file named \"data.csv\".\n",
    "   - `delimiter` argument specifies the delimiter between elements (\",\" for comma-separated).\n",
    "   - `fmt` argument is set to \"%s\" to handle strings without scientific notation conversion.\n",
    "\n",
    "**Using Pandas:**\n",
    "\n",
    "```python\n",
    "import pandas as pd\n",
    "\n",
    "# Sample data as a list of lists\n",
    "data = [[1, 2.5, \"Sample string\"], [2, 3.1, \"Another string\"]]\n",
    "\n",
    "# Create a DataFrame from the data\n",
    "df = pd.DataFrame(data, columns=[\"column1\", \"column2\", \"column3\"])\n",
    "\n",
    "# Save the DataFrame to a CSV file (index=False to exclude row numbers)\n",
    "df.to_csv(\"data_pandas.csv\", index=False)\n",
    "\n",
    "print(\"CSV file created using Pandas!\")\n",
    "```\n",
    "\n",
    "**Explanation:**\n",
    "\n",
    "1. **Import Pandas:** We import the Pandas library using `import pandas as pd`.\n",
    "2. **Sample data:** We create a list of lists `data` containing the same sample data.\n",
    "3. **Create DataFrame:** We use the `pd.DataFrame` constructor to create a DataFrame object `df` from the data list. We also provide column names for better organization.\n",
    "4. **Save as CSV:** We use the `to_csv` method of the DataFrame to save it to a CSV file named \"data_pandas.csv\". The `index=False` argument prevents including the row numbers from the DataFrame in the CSV file.\n",
    "\n",
    "**Running the code:**\n",
    "\n",
    "You can save these code snippets as separate Python files (e.g., `create_csv_numpy.py` and `create_csv_pandas.py`) and run them independently. Each will create a corresponding CSV file (\"data.csv\" and \"data_pandas.csv\") in your working directory. \n",
    "\n",
    "**Key Differences:**\n",
    "\n",
    "- NumPy is more suited for working with raw numerical data, while Pandas offers a richer data structure (DataFrame) and easier manipulation capabilities.\n",
    "- Pandas provides more control over the output CSV format through the `to_csv` method's arguments."
   ]
  },
  {
   "cell_type": "markdown",
   "metadata": {},
   "source": [
    "## Create CSV (Using numpy)"
   ]
  },
  {
   "cell_type": "code",
   "execution_count": null,
   "metadata": {},
   "outputs": [],
   "source": [
    "import numpy as np\n",
    "\n",
    "# Sample data\n",
    "data = np.array([[1, 2.5, \"Sample string\"], [2, 3.1, \"Another string\"]])\n",
    "\n",
    "# Save the data to a CSV file with appropriate formatting\n",
    "np.savetxt(\"data.csv\", data, delimiter=\",\", fmt=\"%s\")  # \"%s\" for string formatting\n",
    "\n",
    "print(\"CSV file created using NumPy!\")\n"
   ]
  },
  {
   "cell_type": "markdown",
   "metadata": {},
   "source": [
    "## Read CSV (Using numpy)"
   ]
  },
  {
   "cell_type": "code",
   "execution_count": null,
   "metadata": {},
   "outputs": [],
   "source": [
    "import numpy as np\n",
    "\n",
    "# Specify the CSV file path (replace with your actual file path)\n",
    "file_path = \"your_data.csv\"\n",
    "\n",
    "try:\n",
    "  # Load the data from the CSV file using np.genfromtxt\n",
    "  data = np.genfromtxt(file_path, delimiter=\",\")\n",
    "\n",
    "  # Print the loaded data (assuming it's a 2D array)\n",
    "  print(\"Imported data using NumPy:\\n\", data)\n",
    "except FileNotFoundError:\n",
    "  print(\"Error: CSV file not found!\")\n"
   ]
  },
  {
   "cell_type": "markdown",
   "metadata": {},
   "source": [
    "## Create CSV (Using pandas)"
   ]
  },
  {
   "cell_type": "code",
   "execution_count": null,
   "metadata": {},
   "outputs": [],
   "source": [
    "import pandas as pd\n",
    "\n",
    "# Sample data as a list of lists\n",
    "data = [[1, 2.5, \"Sample string\"], [2, 3.1, \"Another string\"]]\n",
    "\n",
    "# Create a DataFrame from the data\n",
    "df = pd.DataFrame(data, columns=[\"column1\", \"column2\", \"column3\"])\n",
    "\n",
    "# Save the DataFrame to a CSV file (index=False to exclude row numbers)\n",
    "df.to_csv(\"data_pandas.csv\", index=False)\n",
    "\n",
    "print(\"CSV file created using Pandas!\")\n"
   ]
  },
  {
   "cell_type": "markdown",
   "metadata": {},
   "source": [
    "## Read CSV (Using pandas)"
   ]
  },
  {
   "cell_type": "code",
   "execution_count": null,
   "metadata": {},
   "outputs": [],
   "source": [
    "import pandas as pd\n",
    "\n",
    "# Specify the CSV file path (replace with your actual file path)\n",
    "file_path = \"your_data.csv\"\n",
    "\n",
    "try:\n",
    "  # Load the data from the CSV file using pd.read_csv\n",
    "  data = pd.read_csv(file_path)\n",
    "\n",
    "  # Print the first few rows of the data (use head() for a DataFrame)\n",
    "  print(\"Imported data using Pandas:\\n\", data.head())\n",
    "except FileNotFoundError:\n",
    "  print(\"Error: CSV file not found!\")\n"
   ]
  },
  {
   "cell_type": "markdown",
   "metadata": {},
   "source": [
    "----\n",
    "\n",
    "Here's a Python program that creates and inserts records into a database named \"stud_db\" using sqlite3:\n",
    "\n",
    "```python\n",
    "import sqlite3\n",
    "\n",
    "# Database connection details (replace with your own if needed)\n",
    "db_name = \"stud_db.db\"\n",
    "table_name = \"students\"\n",
    "\n",
    "# Sample student data (you can modify this list)\n",
    "students = [\n",
    "    (\"John Doe\", \"National University\", \"Computer Science\", \"200\", \"08012345678\"),\n",
    "    (\"Jane Smith\", \"Federal Polytechnic\", \"Engineering\", \"300\", \"08087654321\"),\n",
    "    # Add more student data as tuples following the same format\n",
    "]\n",
    "\n",
    "# SQL statement to create the table (if it doesn't exist)\n",
    "create_table_query = f\"\"\"\n",
    "CREATE TABLE IF NOT EXISTS {table_name} (\n",
    "  name TEXT NOT NULL,\n",
    "  school TEXT NOT NULL,\n",
    "  dept TEXT NOT NULL,\n",
    "  level TEXT NOT NULL,\n",
    "  phone TEXT NOT NULL\n",
    ");\n",
    "\"\"\"\n",
    "\n",
    "# SQL statement to insert a student record\n",
    "insert_student_query = f\"\"\"\n",
    "INSERT INTO {table_name} (name, school, dept, level, phone) VALUES (?, ?, ?, ?, ?)\n",
    "\"\"\"\n",
    "\n",
    "try:\n",
    "  # Connect to the database\n",
    "  conn = sqlite3.connect(db_name)\n",
    "\n",
    "  # Create the table if it doesn't exist\n",
    "  conn.cursor().execute(create_table_query)\n",
    "\n",
    "  # Insert student records\n",
    "  for student in students:\n",
    "    conn.execute(insert_student_query, student)\n",
    "\n",
    "  # Commit the changes\n",
    "  conn.commit()\n",
    "  print(\"Student records inserted successfully!\")\n",
    "\n",
    "except sqlite3.Error as error:\n",
    "  print(\"Error while creating database or inserting records:\", error)\n",
    "finally:\n",
    "  # Close the connection if opened\n",
    "  if conn:\n",
    "    conn.close()\n",
    "```\n",
    "\n",
    "**Explanation:**\n",
    "\n",
    "1. **Import library:** We import the `sqlite3` library for working with SQLite databases.\n",
    "2. **Database details:** Define the database name (`db_name`) and table name (`table_name`) as variables. You can modify these to match your preferences.\n",
    "3. **Sample data:** Create a list named `students` containing tuples representing student data. Each tuple has the following order: name, school, department, level, and phone number. Modify this list to include your desired student data.\n",
    "4. **Create table query:** Define a string variable `create_table_query` containing the SQL statement to create the `students` table with the specified fields.\n",
    "5. **Insert student query:** Define a string variable `insert_student_query` containing the SQL statement to insert a student record into the table. The `?` placeholders will be replaced with actual data from the `students` list.\n",
    "6. **Connect to database:** Inside a `try` block, we use `sqlite3.connect` to establish a connection to the database specified by `db_name`.\n",
    "7. **Create table (if needed):** We execute the `create_table_query` using the cursor's `execute` method to create the table if it doesn't already exist in the database.\n",
    "8. **Insert student records:** We iterate through the `students` list. For each student tuple, we execute the `insert_student_query` using `conn.execute` and pass the student data as a tuple to replace the `?` placeholders.\n",
    "9. **Commit changes:** After inserting all records, we use `conn.commit` to save the changes permanently to the database.\n",
    "10. **Error handling:** A `try-except` block is used to catch any potential errors (e.g., database connection issues) during execution. The `finally` block ensures the connection is closed even if there are errors.\n",
    "\n",
    "**Running the code:**\n",
    "\n",
    "1. Save the code as a Python file (e.g., `create_student_db.py`).\n",
    "2. Run the script using `python create_student_db.py`.\n",
    "3. If successful, it will print \"Student records inserted successfully!\". You can then use a tool like `sqlitebrowser` to connect to the \"stud_db.db\" database and view the contents of the \"students\" table."
   ]
  },
  {
   "cell_type": "markdown",
   "metadata": {},
   "source": [
    "# Create a Series using Dictionary and Numpy"
   ]
  },
  {
   "cell_type": "code",
   "execution_count": null,
   "metadata": {},
   "outputs": [],
   "source": [
    "import pandas as pd\n",
    "import numpy as np\n",
    "\n",
    "# Create a dictionary\n",
    "data = {\"apple\": 10, \"banana\": 20, \"cherry\": 30}\n",
    "\n",
    "# NumPy function (example: calculate square root)\n",
    "def square_root(x):\n",
    "  return np.sqrt(x)\n",
    "\n",
    "# Apply the NumPy function to the dictionary values and create a Series\n",
    "s = pd.Series(square_root(data.values()), index=data.keys())\n",
    "\n",
    "# Print the Series\n",
    "print(s)\n"
   ]
  },
  {
   "cell_type": "markdown",
   "metadata": {},
   "source": [
    "### Full Code and explanation\n",
    "\n",
    "Absolutely, here's how you can create a Series using a dictionary and a NumPy function:\n",
    "\n",
    "```python\n",
    "import pandas as pd\n",
    "import numpy as np\n",
    "\n",
    "# Create a dictionary\n",
    "data = {\"apple\": 10, \"banana\": 20, \"cherry\": 30}\n",
    "\n",
    "# NumPy function (example: calculate square root)\n",
    "def square_root(x):\n",
    "  return np.sqrt(x)\n",
    "\n",
    "# Apply the NumPy function to the dictionary values and create a Series\n",
    "s = pd.Series(square_root(data.values()), index=data.keys())\n",
    "\n",
    "# Print the Series\n",
    "print(s)\n",
    "```\n",
    "\n",
    "**Explanation:**\n",
    "\n",
    "1. **Import libraries:** We import `pandas` (as `pd`) for creating the Series and `numpy` (as `np`) for using NumPy functions.\n",
    "2. **Create dictionary:** We define a dictionary named `data` containing key-value pairs, where the keys are fruit names (strings) and the values are their quantities (integers).\n",
    "3. **NumPy function:** We define a function named `square_root` that takes a single argument `x` and returns its square root using `np.sqrt(x)`. You can replace this function with any other NumPy function you want to apply to the dictionary values.\n",
    "4. **Apply function and create Series:**\n",
    "   - We use `square_root(data.values())` to apply the `square_root` function element-wise to the values of the dictionary (`data.values()`). This returns a NumPy array containing the square roots of the values.\n",
    "   - We use `pd.Series` to create a Series from the calculated square roots. We provide the resulting array as the data and the original dictionary keys (`data.keys()`) as the index.\n",
    "5. **Print the Series:** Finally, we print the `s` Series, which will display the fruit names as the index and their corresponding square root values.\n",
    "\n",
    "**Key Points:**\n",
    "\n",
    "- This approach demonstrates how to leverage NumPy functions to perform calculations on the values in a dictionary before creating a Pandas Series.\n",
    "- You can replace the `square_root` function with any other NumPy function that suits your needs, allowing you to manipulate the dictionary values before creating the Series.\n",
    "\n"
   ]
  },
  {
   "cell_type": "markdown",
   "metadata": {},
   "source": [
    "----\n",
    "# short note on python features\n",
    "\n",
    "Here's a summary of some key features of the Python programming language:\n",
    "\n",
    "**General-Purpose and High-Level:**\n",
    "\n",
    "- Python is a general-purpose language, meaning it can be used for various tasks like web development, data analysis, scripting, and more.\n",
    "- It's a high-level language, making it closer to human-readable English compared to lower-level languages that require more machine-specific instructions. This allows programmers to focus on the logic of their code rather than low-level details.\n",
    "\n",
    "**Easy to Learn and Read:**\n",
    "\n",
    "- Python is known for its clear and concise syntax, making it easier to learn and understand, even for beginners.\n",
    "- Its use of whitespace indentation for code blocks contributes to readability and maintainability.\n",
    "\n",
    "**Interpreted Language:**\n",
    "\n",
    "- Python code is interpreted at runtime rather than compiled into machine code beforehand. This allows for faster development cycles as changes can be tested quickly without recompiling the entire program.\n",
    "\n",
    "**Object-Oriented Programming (OOP):**\n",
    "\n",
    "- Python supports object-oriented programming (OOP) concepts like classes, objects, inheritance, and polymorphism. This allows for code reusability, modularity, and better organization of complex programs.\n",
    "\n",
    "**Extensive Standard Library:**\n",
    "\n",
    "- Python comes with a rich standard library that provides built-in modules and functions for various tasks like file I/O, networking, data structures, and more. This reduces the need to write code from scratch for common functionalities.\n",
    "\n",
    "**Large Third-Party Library Ecosystem:**\n",
    "\n",
    "- Python boasts a vast ecosystem of third-party libraries available through PyPI (Python Package Index). These libraries provide functionalities for specific domains like machine learning (TensorFlow, PyTorch), web development (Django, Flask), data science (NumPy, Pandas), and many more.\n",
    "\n",
    "**Cross-Platform:**\n",
    "\n",
    "- Python code can run on various operating systems (Windows, macOS, Linux) without modifications, making it a versatile language for development across different platforms.\n",
    "\n",
    "**Strong Community and Resources:**\n",
    "\n",
    "- Python has a large and active community of developers, offering extensive online resources, tutorials, and forums for learning and support.\n",
    " \n",
    "In summary, Python's combination of ease of use, rich standard library, extensive third-party ecosystem, and cross-platform capabilities make it a popular and versatile language for programmers of all levels."
   ]
  },
  {
   "cell_type": "markdown",
   "metadata": {},
   "source": [
    "# Python and PIP Version command\n",
    "\n",
    "There are two main ways to check the Python and pip versions in your system:\n",
    "\n",
    "**1. Using the Command Line:**\n",
    "\n",
    "* **Python version:** Open a terminal or command prompt and type the following command:\n",
    "\n",
    "```bash\n",
    "python --version\n",
    "```\n",
    "\n",
    "   - This command will display the installed Python version information, typically including the major, minor, and patch version numbers (e.g., `Python 3.10.6`).\n",
    "\n",
    "* **pip version:** You can check the pip version using the following command:\n",
    "\n",
    "```bash\n",
    "pip --version\n",
    "```\n",
    "\n",
    "   - This command will display the installed pip version information, also typically including major, minor, and patch version numbers (e.g., `pip 22.3.1`).\n",
    "\n",
    "\n",
    "**Using the Right Command:**\n",
    "\n",
    "- The `python --version` command is used specifically to check the installed Python version, not the pip version.\n",
    "- The `pip --version` command is used specifically to check the pip version associated with the currently active Python interpreter. There might be multiple pip versions installed if you have multiple Python environments.\n",
    "\n",
    "I hope this comprehensive explanation clarifies how to check Python and pip versions using both command-line and interpreter methods!"
   ]
  }
 ],
 "metadata": {
  "kernelspec": {
   "display_name": ".venv",
   "language": "python",
   "name": "python3"
  },
  "language_info": {
   "codemirror_mode": {
    "name": "ipython",
    "version": 3
   },
   "file_extension": ".py",
   "mimetype": "text/x-python",
   "name": "python",
   "nbconvert_exporter": "python",
   "pygments_lexer": "ipython3",
   "version": "3.12.4"
  }
 },
 "nbformat": 4,
 "nbformat_minor": 2
}
