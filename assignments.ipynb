{
 "cells": [
  {
   "cell_type": "markdown",
   "metadata": {},
   "source": [
    "# Minimum and Maximum \n",
    "Find the minimum and maximum number in the set"
   ]
  },
  {
   "cell_type": "code",
   "execution_count": 3,
   "metadata": {},
   "outputs": [
    {
     "name": "stdout",
     "output_type": "stream",
     "text": [
      "2\n",
      "20\n"
     ]
    }
   ],
   "source": [
    "my_set = {5, 10, 3, 15, 2, 20}\n",
    "\n",
    "print(\"Minimum value:\", min(my_set))\n",
    "print(\"Maximum value:\", max(my_set))"
   ]
  },
  {
   "cell_type": "markdown",
   "metadata": {},
   "source": [
    "# Difference between 2 sets:\n",
    "A Python program to find the difference between two sets:"
   ]
  },
  {
   "cell_type": "code",
   "execution_count": 1,
   "metadata": {},
   "outputs": [
    {
     "name": "stdout",
     "output_type": "stream",
     "text": [
      "Difference: {1, 3, 5}\n"
     ]
    }
   ],
   "source": [
    "set1 = {1, 2, 3, 4, 5}\n",
    "set2 = {2, 4, 6, 8}\n",
    "\n",
    "difference = set1.difference(set2)\n",
    "print(\"Difference:\", difference)"
   ]
  },
  {
   "cell_type": "markdown",
   "metadata": {},
   "source": [
    "# Common value between set"
   ]
  },
  {
   "cell_type": "code",
   "execution_count": 2,
   "metadata": {},
   "outputs": [
    {
     "name": "stdout",
     "output_type": "stream",
     "text": [
      "Elements in common: {2, 4}\n"
     ]
    }
   ],
   "source": [
    "# Find the intersection between two sets\n",
    "set1 = {1, 2, 3, 4, 5}\n",
    "set2 = {2, 4, 6, 8}\n",
    "\n",
    "# Use the intersection method for efficient set operation\n",
    "intersection = set1.intersection(set2)\n",
    "\n",
    "print(\"Elements in common:\", intersection)"
   ]
  },
  {
   "cell_type": "markdown",
   "metadata": {},
   "source": [
    "# SORT Tuple"
   ]
  },
  {
   "cell_type": "code",
   "execution_count": 3,
   "metadata": {},
   "outputs": [
    {
     "name": "stdout",
     "output_type": "stream",
     "text": [
      "Sorted data by float value: [('item1', '11.20'), ('item1', '12.50'), ('item1', '12.52')]\n"
     ]
    }
   ],
   "source": [
    "# Sort a tuple by its float element\n",
    "\n",
    "sample_data = [('item1','12.50'),('item1','11.20'),('item1','12.52')]\n",
    "\n",
    "# Sort the tuple using key function and lambda to convert string to float\n",
    "sorted_data = sorted(sample_data, key=lambda x: float(x[1]))\n",
    "\n",
    "print(\"Sorted data by float value:\", sorted_data)"
   ]
  },
  {
   "cell_type": "markdown",
   "metadata": {},
   "source": [
    "# Count Until Turple\n"
   ]
  },
  {
   "cell_type": "code",
   "execution_count": 4,
   "metadata": {},
   "outputs": [
    {
     "name": "stdout",
     "output_type": "stream",
     "text": [
      "Number of elements counted: 3\n"
     ]
    }
   ],
   "source": [
    "def count_elements_until_tuple(my_list):\n",
    "  \"\"\"\n",
    "  This function counts the elements in a list until a tuple is encountered.\n",
    "\n",
    "  Args:\n",
    "      my_list: A list of elements.\n",
    "\n",
    "  Returns:\n",
    "      The number of elements counted before encountering a tuple, \n",
    "      or 0 if the list is empty or contains no tuples.\n",
    "  \"\"\"\n",
    "  count = 0\n",
    "  for item in my_list:\n",
    "    if isinstance(item, tuple):\n",
    "      return count\n",
    "    count += 1\n",
    "  return 0  # If loop finishes without finding a tuple\n",
    "\n",
    "# Example usage\n",
    "my_list = [\"apple\", \"banana\", 3.14, (1, 2, 3), \"orange\"]\n",
    "count = count_elements_until_tuple(my_list)\n",
    "\n",
    "print(\"Number of elements counted:\", count)\n"
   ]
  },
  {
   "cell_type": "markdown",
   "metadata": {},
   "source": [
    "# 1. Create a List and find the Largest number"
   ]
  },
  {
   "cell_type": "code",
   "execution_count": 6,
   "metadata": {},
   "outputs": [
    {
     "name": "stdout",
     "output_type": "stream",
     "text": [
      "The largest number in the list is: 22\n"
     ]
    }
   ],
   "source": [
    "# Create a list of numbers\n",
    "numbers = [5, 10, 15, 22, 20]\n",
    "\n",
    "# Initialize a variable to store the largest number seen so far\n",
    "largest_number = numbers[0]  # Assuming the list is not empty\n",
    "\n",
    "# Iterate through the list and update largest_number if needed\n",
    "for number in numbers:\n",
    "  if number > largest_number:\n",
    "    largest_number = number\n",
    "\n",
    "print(\"The largest number in the list is:\", largest_number)\n"
   ]
  }
 ],
 "metadata": {
  "kernelspec": {
   "display_name": ".venv",
   "language": "python",
   "name": "python3"
  },
  "language_info": {
   "codemirror_mode": {
    "name": "ipython",
    "version": 3
   },
   "file_extension": ".py",
   "mimetype": "text/x-python",
   "name": "python",
   "nbconvert_exporter": "python",
   "pygments_lexer": "ipython3",
   "version": "3.12.0"
  }
 },
 "nbformat": 4,
 "nbformat_minor": 2
}
